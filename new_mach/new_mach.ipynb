{
 "cells": [
  {
   "cell_type": "code",
   "execution_count": 12,
   "metadata": {},
   "outputs": [],
   "source": [
    "import numpy as np\n",
    "from qiskit.circuit import QuantumCircuit, Qubit, Clbit\n",
    "from qiskit.quantum_info import Operator\n",
    "from qiskit_aer import AerSimulator\n",
    "\n",
    "\n",
    "def beam_splitter(r: float) -> np.array:\n",
    "    \"\"\"\n",
    "    Returns the beam splitter matrix.\n",
    "\n",
    "    Args:\n",
    "        - r (float): The reflection coefficient of the beam splitter.\n",
    "    Returns:\n",
    "        - (np.array): 2 x 2 matrix that represents the beam\n",
    "        splitter matrix.    \n",
    "    \"\"\"\n",
    "    t = np.sqrt(1 - r**2)\n",
    "    return np.array([[r, t], [t, -r]])\n",
    "\n",
    "\n",
    "def mz_interferometer(r: float) -> np.array:\n",
    "    \"\"\"\n",
    "    This quantum circuit returns the probability that either A or C\n",
    "    detect a photon, and the probability that D detects a photon.\n",
    "    \n",
    "    Args:\n",
    "        - r (float): The reflection coefficient of the beam splitters.\n",
    "    Returns: \n",
    "        - np.array(float): An array of shape (2,), where the first \n",
    "        element is the probability of detection at A or C,\n",
    "        and the second element is the probability of detection at D.\n",
    "    \"\"\"\n",
    "    \n",
    "    bits = [Qubit(), Clbit(), Clbit(), Clbit()]\n",
    "    qc = QuantumCircuit(bits)\n",
    "\n",
    "    splitter_op = Operator(beam_splitter(r))\n",
    "    qc.unitary(splitter_op, 0, label=\"Beam Splitter\")\n",
    "    qc.measure(0, 0)\n",
    "\n",
    "    with qc.if_test((bits[1], 0)) as else_:\n",
    "        pass\n",
    "    with else_:\n",
    "        qc.unitary(splitter_op, 0, label=\"Beam Splitter\")\n",
    "        qc.measure(0, 1)\n",
    "        qc.measure(0, 2)\n",
    "\n",
    "    backend = AerSimulator()\n",
    "    \n",
    "    shots = 2**20\n",
    "    job = backend.run(qc, shots=shots)\n",
    "    result = job.result()\n",
    "    counts = result.get_counts()\n",
    "\n",
    "    det_a = counts['000']\n",
    "    det_c = counts['001']\n",
    "    det_d = counts['111']\n",
    "\n",
    "    p_ac = (det_a + det_c)/shots\n",
    "    p_d = det_d/shots\n",
    "    \n",
    "    return np.array([p_ac, p_d])"
   ]
  },
  {
   "cell_type": "code",
   "execution_count": 11,
   "metadata": {},
   "outputs": [
    {
     "name": "stdout",
     "output_type": "stream",
     "text": [
      "r: 0.1 -> [0.99012852 0.00987148]\n",
      "\n",
      "r: 0.3124456 -> [0.91197968 0.08802032]\n",
      "\n",
      "r: 0.5 -> [0.8128376 0.1871624]\n",
      "\n",
      "r: 0.577350269 -> [0.77794933 0.22205067]\n",
      "\n",
      "r: 0.9 -> [0.84581852 0.15418148]\n",
      "\n"
     ]
    }
   ],
   "source": [
    "import threading\n",
    "\n",
    "def print_result(r: float) -> None:\n",
    "    print(f\"r: {r} -> {mz_interferometer(r)}\\n\")\n",
    "\n",
    "\n",
    "test_cases = [\n",
    "    ('0.1', '[0.990234375, 0.009765625]'),\n",
    "    ('0.3124456', '[0.915283203125, 0.084716796875]'),\n",
    "    ('0.5', '[0.8125, 0.1875]'),\n",
    "    ('0.577350269', '[0.777778, 0.222222]'),\n",
    "    ('0.9', '[0.842529296875, 0.157470703125]')\n",
    "]\n",
    "\n",
    "for i in range(5):\n",
    "    arg = float(test_cases[i][0])\n",
    "    t = threading.Thread(target=print_result, args=(arg,))\n",
    "    t.start()\n",
    "    t.join()\n"
   ]
  }
 ],
 "metadata": {
  "kernelspec": {
   "display_name": ".venv",
   "language": "python",
   "name": "python3"
  },
  "language_info": {
   "codemirror_mode": {
    "name": "ipython",
    "version": 3
   },
   "file_extension": ".py",
   "mimetype": "text/x-python",
   "name": "python",
   "nbconvert_exporter": "python",
   "pygments_lexer": "ipython3",
   "version": "3.11.8"
  }
 },
 "nbformat": 4,
 "nbformat_minor": 2
}
