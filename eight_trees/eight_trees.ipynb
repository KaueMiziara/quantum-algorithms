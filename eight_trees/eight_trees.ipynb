{
 "cells": [
  {
   "cell_type": "code",
   "execution_count": 91,
   "metadata": {},
   "outputs": [],
   "source": [
    "from qiskit.circuit import QuantumCircuit\n",
    "from qiskit.quantum_info import Statevector\n",
    "from qiskit.visualization import plot_histogram\n",
    "from qiskit_aer import AerSimulator"
   ]
  },
  {
   "cell_type": "code",
   "execution_count": null,
   "metadata": {},
   "outputs": [],
   "source": [
    "\"\"\"\n",
    "2 QBits\n",
    "qc.cx(0, 2)\n",
    "qc.cx(1, 2)\n",
    "qc.ccx(0, 1, 2)\n",
    "\n",
    "3 QBits\n",
    "qc.cx(0, 3)\n",
    "qc.cx(1, 3)\n",
    "qc.cx(2, 3)\n",
    "qc.ccx(0, 1, 3)\n",
    "qc.ccx(1, 2, 3)\n",
    "\n",
    "4 QBits\n",
    "qc.cx(0, 4)\n",
    "qc.cx(1, 4)\n",
    "qc.cx(2, 4)\n",
    "qc.cx(3, 4)\n",
    "qc.ccx(0, 1, 4)\n",
    "qc.ccx(1, 2, 4)\n",
    "qc.ccx(2, 3, 4)\n",
    "\"\"\""
   ]
  },
  {
   "cell_type": "code",
   "execution_count": 275,
   "metadata": {},
   "outputs": [],
   "source": [
    "def eight_trees(trees: list) -> int:\n",
    "    qc = QuantumCircuit(9, 1)\n",
    "    [qc.x(i) for i in range(8) if trees[i]]\n",
    "\n",
    "    qc.cx(0, 8)\n",
    "    qc.cx(1, 8)\n",
    "    qc.cx(2, 8)\n",
    "    qc.cx(3, 8)\n",
    "    qc.cx(4, 8)\n",
    "    qc.cx(5, 8)\n",
    "    qc.cx(6, 8)\n",
    "    qc.cx(7, 8)\n",
    "    qc.ccx(0, 1, 8)\n",
    "    qc.ccx(1, 2, 8)\n",
    "    qc.ccx(2, 3, 8)\n",
    "    qc.ccx(3, 4, 8)\n",
    "    qc.ccx(4, 5, 8)\n",
    "    qc.ccx(5, 6, 8)\n",
    "    qc.ccx(6, 7, 8)\n",
    "\n",
    "    qc.measure(8, 0)\n",
    "\n",
    "    backend = AerSimulator()\n",
    "    result = backend.run(qc, shots = 1).result().get_counts()\n",
    "\n",
    "    output = list(result.keys())[0]\n",
    "    return int(output)"
   ]
  },
  {
   "cell_type": "code",
   "execution_count": 276,
   "metadata": {},
   "outputs": [
    {
     "data": {
      "text/plain": [
       "0"
      ]
     },
     "metadata": {},
     "output_type": "display_data"
    },
    {
     "data": {
      "text/plain": [
       "1"
      ]
     },
     "metadata": {},
     "output_type": "display_data"
    },
    {
     "data": {
      "text/plain": [
       "1"
      ]
     },
     "metadata": {},
     "output_type": "display_data"
    },
    {
     "data": {
      "text/plain": [
       "0"
      ]
     },
     "metadata": {},
     "output_type": "display_data"
    },
    {
     "data": {
      "text/plain": [
       "1"
      ]
     },
     "metadata": {},
     "output_type": "display_data"
    }
   ],
   "source": [
    "input0 = [0, 0, 0, 0, 0, 0, 0, 0]\n",
    "input1 = [0, 1, 1, 0, 1, 0, 0, 1]\n",
    "input2 = [1, 1, 1, 1, 1, 1, 1, 1]\n",
    "input3 = [1, 1, 1, 0, 1, 1, 1, 1]\n",
    "input4 = [0, 0, 1, 1, 1, 1, 1, 1]\n",
    "\n",
    "display(eight_trees(input0))\n",
    "display(eight_trees(input1))\n",
    "display(eight_trees(input2))\n",
    "display(eight_trees(input3))\n",
    "display(eight_trees(input4))"
   ]
  }
 ],
 "metadata": {
  "kernelspec": {
   "display_name": "Python 3",
   "language": "python",
   "name": "python3"
  },
  "language_info": {
   "codemirror_mode": {
    "name": "ipython",
    "version": 3
   },
   "file_extension": ".py",
   "mimetype": "text/x-python",
   "name": "python",
   "nbconvert_exporter": "python",
   "pygments_lexer": "ipython3",
   "version": "3.11.8"
  }
 },
 "nbformat": 4,
 "nbformat_minor": 2
}
