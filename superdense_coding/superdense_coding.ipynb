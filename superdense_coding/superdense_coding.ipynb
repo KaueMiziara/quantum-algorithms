{
 "cells": [
  {
   "cell_type": "code",
   "execution_count": 113,
   "metadata": {
    "metadata": {}
   },
   "outputs": [],
   "source": [
    "from qiskit import QuantumCircuit\n",
    "from qiskit_aer import AerSimulator"
   ]
  },
  {
   "cell_type": "code",
   "execution_count": 148,
   "metadata": {
    "metadata": {}
   },
   "outputs": [],
   "source": [
    "def string_to_bin(mensagem: str) -> list:\n",
    "    ''' Essa função recebe como entrada uma string\n",
    "    e devolve os binarios 0s e 1s que a representam.\n",
    "    Essa função pode receber letra por letra ou uma \n",
    "    string inteira e converter na sequencia binaria\n",
    "    que a representa.\n",
    "\n",
    "    Args:\n",
    "            - mensagem (`string`): mensagem que deseja obter o binario.\n",
    "    Returns:\n",
    "            - (`list`): lista que representa a sequencia binaria do string.\n",
    "    '''\n",
    "    return [format(ord(c), '08b') for c in mensagem]\n",
    "\n",
    "\n",
    "def bin_to_string(bin: list) -> str:\n",
    "    ''' Essa função recebe uma sequencia de binarios e converte em uma\n",
    "    string.\n",
    "\n",
    "    Args:\n",
    "            - bin (`list`): lista contendo os binarios.\n",
    "    Returns:\n",
    "            - (`string`): string da mensagem decodificada.\n",
    "    '''\n",
    "    return ''.join([chr(int(b, 2)) for b in bin])"
   ]
  },
  {
   "cell_type": "code",
   "execution_count": 157,
   "metadata": {
    "metadata": {}
   },
   "outputs": [],
   "source": [
    "def split_into_pairs(bin: list) -> list:\n",
    "    result = []\n",
    "\n",
    "    for byte in bin:\n",
    "        pairs = [byte[i:i+2] for i in range(0, len(byte), 2)]\n",
    "        result.append(pairs)\n",
    "    \n",
    "    return result\n",
    "\n",
    "\n",
    "def list_from_pairs(pairs: list) -> list:\n",
    "    byte_list = []\n",
    "\n",
    "    for pair in pairs:\n",
    "        byte = ''.join(pair)\n",
    "        byte_list.append(byte)\n",
    "\n",
    "    return byte_list"
   ]
  },
  {
   "cell_type": "code",
   "execution_count": 162,
   "metadata": {
    "metadata": {}
   },
   "outputs": [],
   "source": [
    "def emaranhar(qubits: int) -> QuantumCircuit:\n",
    "    '''Aqui, você deve construir um circuito que emaranha o seu qubit \n",
    "    com o de Alice.\n",
    "\n",
    "    Args:\n",
    "        - int (int): Recebe o tamanho do circuito compartilhado com \n",
    "            Alice.\n",
    "    Returns:\n",
    "        - (QuantumCircuit): Circuito compartilhado entre voce e Alice.\n",
    "    '''\n",
    "\n",
    "    qc = QuantumCircuit(qubits)\n",
    "\n",
    "    qc.h(0)\n",
    "    qc.cx(0, 1)\n",
    "\n",
    "    return qc\n",
    "\n",
    "\n",
    "def sua_parte(qc: QuantumCircuit, bin: list) -> QuantumCircuit:\n",
    "    ''' Aqui você aplicará as rotações necessárias dependendo dos bits que deseja\n",
    "    enviar para Alice.\n",
    "\n",
    "    Args:\n",
    "        - qc (`QuantumCircuit`): Recebe o circuito compartilhado por\n",
    "            voce e alice.\n",
    "        - bin (list): Recebe os binarios que deseja enviar por meio de rotações.\n",
    "    Returns:\n",
    "        - (QuantumCircuit): Circuito compartilhado entre voce e Alice.\n",
    "    '''\n",
    "\n",
    "    if bin[0] == '1':\n",
    "        qc.z(0)\n",
    "    if bin[1] == '1':\n",
    "        qc.x(0)\n",
    "\n",
    "    return qc\n",
    "\n",
    "\n",
    "def alice_parte(qc: QuantumCircuit) -> list:\n",
    "    ''' Alice recebe esses qubits, mede eles e armazena os bits em um vetor.\n",
    "    Args:\n",
    "        - qc (QuantumCircuit): Recebe o circuito compartilhado por\n",
    "            voce e alice.\n",
    "    Returns:\n",
    "        - (list): lista com os binarios medidos codificados.\n",
    "    '''\n",
    "\n",
    "    qc.cx(0, 1)\n",
    "    qc.h(0)\n",
    "    qc.measure_all()\n",
    "\n",
    "    result = AerSimulator().run(qc, shots=1).result()\n",
    "    stats = result.get_counts()\n",
    "\n",
    "    return list(stats.keys())"
   ]
  },
  {
   "cell_type": "code",
   "execution_count": 171,
   "metadata": {
    "metadata": {}
   },
   "outputs": [],
   "source": [
    "def protocol(bin: list) -> list:\n",
    "    ''' Essa função realiza o protocolo mostrado em sala. Aqui, você deve\n",
    "    construir um circuito que emaranha o seu qubit com o de Alice, e dependendo\n",
    "    dos binarios que você quer enviar, realiza rotações no seu qubit. \n",
    "\n",
    "    Logo apos isso, Alice recebe esses qubits, mede eles e armazena os bits em um vetor.\n",
    "    - Lembre: a cada qubit emaranhado, você pode enviar 2 bits de informação.\n",
    "    \n",
    "    Aqui você pode emaranhar apenas um qubits e a partir dele, enviar de 2 em 2 bits de informação,\n",
    "    ou construir um circuito maior que envia mais bits de informação. \n",
    "    \n",
    "    De qualquer forma, pela limitação de simular um computador quântico, você não podera \n",
    "    colocar todos os qubits de uma vez só, e realizar essa função varias vezes pode ser um boa solução.\n",
    "    \n",
    "    Args:\n",
    "        - bin (list): lista contendo os binarios que deseja enviar.\n",
    "    Returns:\n",
    "        - (list): lista contendo os binarios enviados.\n",
    "    '''\n",
    "    pairs = split_into_pairs(bin)\n",
    "\n",
    "    result = []\n",
    "    for byte in pairs:\n",
    "        byte_result = []\n",
    "        for pair in byte:\n",
    "            qc = emaranhar(2)\n",
    "            qc = sua_parte(qc, list(pair))\n",
    "            received = alice_parte(qc)\n",
    "            adjusted = received[0][::-1]\n",
    "            \n",
    "            byte_result.append(adjusted)\n",
    "        result.append(byte_result)\n",
    "\n",
    "    return result"
   ]
  },
  {
   "cell_type": "code",
   "execution_count": 184,
   "metadata": {
    "metadata": {}
   },
   "outputs": [
    {
     "name": "stdout",
     "output_type": "stream",
     "text": [
      "quantic is cool\n"
     ]
    }
   ],
   "source": [
    "message = \"quantic is cool\"\n",
    "message_bin = string_to_bin(message)\n",
    "\n",
    "received_message = protocol(message_bin)\n",
    "decoded_message = bin_to_string(list_from_pairs(received_message))\n",
    "\n",
    "print(decoded_message)"
   ]
  }
 ],
 "metadata": {
  "kernelspec": {
   "display_name": ".venv",
   "language": "python",
   "name": "python3"
  },
  "language_info": {
   "codemirror_mode": {
    "name": "ipython",
    "version": 3
   },
   "file_extension": ".py",
   "mimetype": "text/x-python",
   "name": "python",
   "nbconvert_exporter": "python",
   "pygments_lexer": "ipython3",
   "version": "3.11.8"
  }
 },
 "nbformat": 4,
 "nbformat_minor": 2
}
