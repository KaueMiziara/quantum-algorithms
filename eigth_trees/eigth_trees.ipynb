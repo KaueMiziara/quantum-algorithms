{
 "cells": [
  {
   "cell_type": "markdown",
   "metadata": {},
   "source": [
    "## Problem of the 8 Trees\n",
    "Create a function that receives as input a list of integers representing the presence (_1_) or absence (_0_) of trees.\n",
    "\n",
    "> Adjacent trees form a _set_ of trees.\n",
    "\n",
    "The function should return ***0*** if the number of sets is even and ***1*** if it's odd.\n",
    "\n",
    "### Examples\n",
    "Input: `[0, 1, 1, 0, 1, 0, 0, 1]`  \n",
    "Sets: `3`  \n",
    "Output: `1`  \n",
    "\n",
    "Input: `[1, 1, 1, 1, 1, 1, 1, 1]`  \n",
    "Sets: `1`  \n",
    "Output: `1`  \n",
    "\n",
    "Input: `[1, 1, 1, 0, 1, 1, 1, 1]`  \n",
    "Sets: `2`  \n",
    "Output: `0`  \n",
    "\n",
    "Input: `[0, 0, 1, 1, 1, 1, 1, 1]`  \n",
    "Sets: `1`  \n",
    "Output: `1`  "
   ]
  },
  {
   "cell_type": "code",
   "execution_count": null,
   "metadata": {
    "vscode": {
     "languageId": "plaintext"
    }
   },
   "outputs": [],
   "source": []
  }
 ],
 "metadata": {
  "language_info": {
   "name": "python"
  }
 },
 "nbformat": 4,
 "nbformat_minor": 2
}
